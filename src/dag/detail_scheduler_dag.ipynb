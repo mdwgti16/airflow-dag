{
 "cells": [
  {
   "cell_type": "code",
   "execution_count": 1,
   "outputs": [],
   "source": [
    "from __init__ import *\n",
    "from src.common.db.mariadb import *\n",
    "import pandas as pd"
   ],
   "metadata": {
    "collapsed": false
   }
  },
  {
   "cell_type": "code",
   "execution_count": 3,
   "outputs": [],
   "source": [
    "acq_tasks = acq_detail_task('0 */8 * * *')"
   ],
   "metadata": {
    "collapsed": false
   }
  },
  {
   "cell_type": "code",
   "execution_count": 26,
   "outputs": [],
   "source": [
    "def f(r):\n",
    "    return r.COLLECT_SITE\n",
    "res = acq_tasks.apply(f, axis=1)\n",
    "\n",
    "def ff():\n",
    "    pass"
   ],
   "metadata": {
    "collapsed": false
   }
  },
  {
   "cell_type": "code",
   "execution_count": 31,
   "outputs": [],
   "source": [
    "if ff() != None and len(ff()):\n",
    "    print(11)"
   ],
   "metadata": {
    "collapsed": false
   }
  },
  {
   "cell_type": "code",
   "execution_count": 19,
   "outputs": [
    {
     "data": {
      "text/plain": "      ID SUB_SITE            COLLECT_SITE  TURN TYPE\n0      1  default          chicor.ssg.com     2    M\n66    93  default  department.lotteon.com     2    M\n115  142  default  department.lotteon.com     2    M\n2      3  default      department.ssg.com     2    M\n119  146  default            lg.datart.cz     2    M\n..   ...      ...                     ...   ...  ...\n89   116  default          top.11st.co.kr   144    L\n99   126  default       top.auction.co.kr   144    P\n109  136  default       top.gmarket.co.kr   144    C\n26    29  default           top.kurly.com   144    T\n114  141  default      top.lotteimall.com   144    P\n\n[120 rows x 5 columns]",
      "text/html": "<div>\n<style scoped>\n    .dataframe tbody tr th:only-of-type {\n        vertical-align: middle;\n    }\n\n    .dataframe tbody tr th {\n        vertical-align: top;\n    }\n\n    .dataframe thead th {\n        text-align: right;\n    }\n</style>\n<table border=\"1\" class=\"dataframe\">\n  <thead>\n    <tr style=\"text-align: right;\">\n      <th></th>\n      <th>ID</th>\n      <th>SUB_SITE</th>\n      <th>COLLECT_SITE</th>\n      <th>TURN</th>\n      <th>TYPE</th>\n    </tr>\n  </thead>\n  <tbody>\n    <tr>\n      <th>0</th>\n      <td>1</td>\n      <td>default</td>\n      <td>chicor.ssg.com</td>\n      <td>2</td>\n      <td>M</td>\n    </tr>\n    <tr>\n      <th>66</th>\n      <td>93</td>\n      <td>default</td>\n      <td>department.lotteon.com</td>\n      <td>2</td>\n      <td>M</td>\n    </tr>\n    <tr>\n      <th>115</th>\n      <td>142</td>\n      <td>default</td>\n      <td>department.lotteon.com</td>\n      <td>2</td>\n      <td>M</td>\n    </tr>\n    <tr>\n      <th>2</th>\n      <td>3</td>\n      <td>default</td>\n      <td>department.ssg.com</td>\n      <td>2</td>\n      <td>M</td>\n    </tr>\n    <tr>\n      <th>119</th>\n      <td>146</td>\n      <td>default</td>\n      <td>lg.datart.cz</td>\n      <td>2</td>\n      <td>M</td>\n    </tr>\n    <tr>\n      <th>...</th>\n      <td>...</td>\n      <td>...</td>\n      <td>...</td>\n      <td>...</td>\n      <td>...</td>\n    </tr>\n    <tr>\n      <th>89</th>\n      <td>116</td>\n      <td>default</td>\n      <td>top.11st.co.kr</td>\n      <td>144</td>\n      <td>L</td>\n    </tr>\n    <tr>\n      <th>99</th>\n      <td>126</td>\n      <td>default</td>\n      <td>top.auction.co.kr</td>\n      <td>144</td>\n      <td>P</td>\n    </tr>\n    <tr>\n      <th>109</th>\n      <td>136</td>\n      <td>default</td>\n      <td>top.gmarket.co.kr</td>\n      <td>144</td>\n      <td>C</td>\n    </tr>\n    <tr>\n      <th>26</th>\n      <td>29</td>\n      <td>default</td>\n      <td>top.kurly.com</td>\n      <td>144</td>\n      <td>T</td>\n    </tr>\n    <tr>\n      <th>114</th>\n      <td>141</td>\n      <td>default</td>\n      <td>top.lotteimall.com</td>\n      <td>144</td>\n      <td>P</td>\n    </tr>\n  </tbody>\n</table>\n<p>120 rows × 5 columns</p>\n</div>"
     },
     "execution_count": 19,
     "metadata": {},
     "output_type": "execute_result"
    }
   ],
   "source": [
    "acq_service"
   ],
   "metadata": {
    "collapsed": false
   }
  }
 ],
 "metadata": {
  "kernelspec": {
   "display_name": "Python 3",
   "language": "python",
   "name": "python3"
  },
  "language_info": {
   "codemirror_mode": {
    "name": "ipython",
    "version": 2
   },
   "file_extension": ".py",
   "mimetype": "text/x-python",
   "name": "python",
   "nbconvert_exporter": "python",
   "pygments_lexer": "ipython2",
   "version": "2.7.6"
  }
 },
 "nbformat": 4,
 "nbformat_minor": 0
}
