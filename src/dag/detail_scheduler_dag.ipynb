{
 "cells": [
  {
   "cell_type": "code",
   "execution_count": 1,
   "outputs": [],
   "source": [
    "from __init__ import *\n",
    "from src.common.db.mariadb import *\n",
    "import pandas as pd"
   ],
   "metadata": {
    "collapsed": false
   }
  },
  {
   "cell_type": "code",
   "execution_count": 2,
   "outputs": [
    {
     "data": {
      "text/plain": "                   Tables_in_acq\n0  ACQ_MARIA_INSTANCE_PROPERTIES\n1        ACQ_MARIA_SITE_INSTANCE\n2             BAK_SERVICE_230314\n3          CATEGORY_BLACK_FILTER\n4          CATEGORY_WHITE_FILTER\n5                        SERVICE\n6                    SERVICE_SUB\n7                            URL",
      "text/html": "<div>\n<style scoped>\n    .dataframe tbody tr th:only-of-type {\n        vertical-align: middle;\n    }\n\n    .dataframe tbody tr th {\n        vertical-align: top;\n    }\n\n    .dataframe thead th {\n        text-align: right;\n    }\n</style>\n<table border=\"1\" class=\"dataframe\">\n  <thead>\n    <tr style=\"text-align: right;\">\n      <th></th>\n      <th>Tables_in_acq</th>\n    </tr>\n  </thead>\n  <tbody>\n    <tr>\n      <th>0</th>\n      <td>ACQ_MARIA_INSTANCE_PROPERTIES</td>\n    </tr>\n    <tr>\n      <th>1</th>\n      <td>ACQ_MARIA_SITE_INSTANCE</td>\n    </tr>\n    <tr>\n      <th>2</th>\n      <td>BAK_SERVICE_230314</td>\n    </tr>\n    <tr>\n      <th>3</th>\n      <td>CATEGORY_BLACK_FILTER</td>\n    </tr>\n    <tr>\n      <th>4</th>\n      <td>CATEGORY_WHITE_FILTER</td>\n    </tr>\n    <tr>\n      <th>5</th>\n      <td>SERVICE</td>\n    </tr>\n    <tr>\n      <th>6</th>\n      <td>SERVICE_SUB</td>\n    </tr>\n    <tr>\n      <th>7</th>\n      <td>URL</td>\n    </tr>\n  </tbody>\n</table>\n</div>"
     },
     "execution_count": 2,
     "metadata": {},
     "output_type": "execute_result"
    }
   ],
   "source": [
    "e = acq_engine()\n",
    "pd.read_sql('show tables', e)"
   ],
   "metadata": {
    "collapsed": false
   }
  },
  {
   "cell_type": "code",
   "execution_count": 8,
   "outputs": [],
   "source": [
    "acq_service = pd.read_sql('select * from SERVICE', e)"
   ],
   "metadata": {
    "collapsed": false
   }
  },
  {
   "cell_type": "code",
   "execution_count": 17,
   "outputs": [],
   "source": [
    "acq_service = acq_service.sort_values(['TURN', 'COLLECT_SITE'], ascending=True)\n",
    "acq_service = acq_service.drop_duplicates(['COLLECT_SITE', 'SUB_SITE', 'TYPE'])\n",
    "turns = acq_service['TURN'].unique()\n",
    "\n",
    "for turn in turns:\n",
    "    turn_site = acq_service[acq_service['TURN'] == turn].groupby(['COLLECT_SITE', 'SUB_SITE']).agg({\n",
    "        'COLLECT_SITE': min,\n",
    "        'SUB_SITE': min,\n",
    "        'TURN': min,\n",
    "        'TYPE': ','.join\n",
    "    })\n",
    "\n",
    "\n",
    "    break\n"
   ],
   "metadata": {
    "collapsed": false
   }
  },
  {
   "cell_type": "code",
   "execution_count": 24,
   "outputs": [
    {
     "data": {
      "text/plain": "         COLLECT_SITE SUB_SITE          TURN TYPE\n0      top.11st.co.kr  default  */10 * * * *  X,L\n1   top.auction.co.kr  default  */10 * * * *    P\n2   top.gmarket.co.kr  default  */10 * * * *    C\n3       top.kurly.com  default  */10 * * * *    T\n4  top.lotteimall.com  default  */10 * * * *    P",
      "text/html": "<div>\n<style scoped>\n    .dataframe tbody tr th:only-of-type {\n        vertical-align: middle;\n    }\n\n    .dataframe tbody tr th {\n        vertical-align: top;\n    }\n\n    .dataframe thead th {\n        text-align: right;\n    }\n</style>\n<table border=\"1\" class=\"dataframe\">\n  <thead>\n    <tr style=\"text-align: right;\">\n      <th></th>\n      <th>COLLECT_SITE</th>\n      <th>SUB_SITE</th>\n      <th>TURN</th>\n      <th>TYPE</th>\n    </tr>\n  </thead>\n  <tbody>\n    <tr>\n      <th>0</th>\n      <td>top.11st.co.kr</td>\n      <td>default</td>\n      <td>*/10 * * * *</td>\n      <td>X,L</td>\n    </tr>\n    <tr>\n      <th>1</th>\n      <td>top.auction.co.kr</td>\n      <td>default</td>\n      <td>*/10 * * * *</td>\n      <td>P</td>\n    </tr>\n    <tr>\n      <th>2</th>\n      <td>top.gmarket.co.kr</td>\n      <td>default</td>\n      <td>*/10 * * * *</td>\n      <td>C</td>\n    </tr>\n    <tr>\n      <th>3</th>\n      <td>top.kurly.com</td>\n      <td>default</td>\n      <td>*/10 * * * *</td>\n      <td>T</td>\n    </tr>\n    <tr>\n      <th>4</th>\n      <td>top.lotteimall.com</td>\n      <td>default</td>\n      <td>*/10 * * * *</td>\n      <td>P</td>\n    </tr>\n  </tbody>\n</table>\n</div>"
     },
     "execution_count": 24,
     "metadata": {},
     "output_type": "execute_result"
    }
   ],
   "source": [
    "turn_site.reset_index(drop=True)"
   ],
   "metadata": {
    "collapsed": false
   }
  },
  {
   "cell_type": "code",
   "execution_count": 19,
   "outputs": [
    {
     "data": {
      "text/plain": "      ID SUB_SITE            COLLECT_SITE  TURN TYPE\n0      1  default          chicor.ssg.com     2    M\n66    93  default  department.lotteon.com     2    M\n115  142  default  department.lotteon.com     2    M\n2      3  default      department.ssg.com     2    M\n119  146  default            lg.datart.cz     2    M\n..   ...      ...                     ...   ...  ...\n89   116  default          top.11st.co.kr   144    L\n99   126  default       top.auction.co.kr   144    P\n109  136  default       top.gmarket.co.kr   144    C\n26    29  default           top.kurly.com   144    T\n114  141  default      top.lotteimall.com   144    P\n\n[120 rows x 5 columns]",
      "text/html": "<div>\n<style scoped>\n    .dataframe tbody tr th:only-of-type {\n        vertical-align: middle;\n    }\n\n    .dataframe tbody tr th {\n        vertical-align: top;\n    }\n\n    .dataframe thead th {\n        text-align: right;\n    }\n</style>\n<table border=\"1\" class=\"dataframe\">\n  <thead>\n    <tr style=\"text-align: right;\">\n      <th></th>\n      <th>ID</th>\n      <th>SUB_SITE</th>\n      <th>COLLECT_SITE</th>\n      <th>TURN</th>\n      <th>TYPE</th>\n    </tr>\n  </thead>\n  <tbody>\n    <tr>\n      <th>0</th>\n      <td>1</td>\n      <td>default</td>\n      <td>chicor.ssg.com</td>\n      <td>2</td>\n      <td>M</td>\n    </tr>\n    <tr>\n      <th>66</th>\n      <td>93</td>\n      <td>default</td>\n      <td>department.lotteon.com</td>\n      <td>2</td>\n      <td>M</td>\n    </tr>\n    <tr>\n      <th>115</th>\n      <td>142</td>\n      <td>default</td>\n      <td>department.lotteon.com</td>\n      <td>2</td>\n      <td>M</td>\n    </tr>\n    <tr>\n      <th>2</th>\n      <td>3</td>\n      <td>default</td>\n      <td>department.ssg.com</td>\n      <td>2</td>\n      <td>M</td>\n    </tr>\n    <tr>\n      <th>119</th>\n      <td>146</td>\n      <td>default</td>\n      <td>lg.datart.cz</td>\n      <td>2</td>\n      <td>M</td>\n    </tr>\n    <tr>\n      <th>...</th>\n      <td>...</td>\n      <td>...</td>\n      <td>...</td>\n      <td>...</td>\n      <td>...</td>\n    </tr>\n    <tr>\n      <th>89</th>\n      <td>116</td>\n      <td>default</td>\n      <td>top.11st.co.kr</td>\n      <td>144</td>\n      <td>L</td>\n    </tr>\n    <tr>\n      <th>99</th>\n      <td>126</td>\n      <td>default</td>\n      <td>top.auction.co.kr</td>\n      <td>144</td>\n      <td>P</td>\n    </tr>\n    <tr>\n      <th>109</th>\n      <td>136</td>\n      <td>default</td>\n      <td>top.gmarket.co.kr</td>\n      <td>144</td>\n      <td>C</td>\n    </tr>\n    <tr>\n      <th>26</th>\n      <td>29</td>\n      <td>default</td>\n      <td>top.kurly.com</td>\n      <td>144</td>\n      <td>T</td>\n    </tr>\n    <tr>\n      <th>114</th>\n      <td>141</td>\n      <td>default</td>\n      <td>top.lotteimall.com</td>\n      <td>144</td>\n      <td>P</td>\n    </tr>\n  </tbody>\n</table>\n<p>120 rows × 5 columns</p>\n</div>"
     },
     "execution_count": 19,
     "metadata": {},
     "output_type": "execute_result"
    }
   ],
   "source": [
    "acq_service"
   ],
   "metadata": {
    "collapsed": false
   }
  }
 ],
 "metadata": {
  "kernelspec": {
   "display_name": "Python 3",
   "language": "python",
   "name": "python3"
  },
  "language_info": {
   "codemirror_mode": {
    "name": "ipython",
    "version": 2
   },
   "file_extension": ".py",
   "mimetype": "text/x-python",
   "name": "python",
   "nbconvert_exporter": "python",
   "pygments_lexer": "ipython2",
   "version": "2.7.6"
  }
 },
 "nbformat": 4,
 "nbformat_minor": 0
}
