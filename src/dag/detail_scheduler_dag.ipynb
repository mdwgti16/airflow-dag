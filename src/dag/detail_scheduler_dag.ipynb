{
 "cells": [
  {
   "cell_type": "code",
   "execution_count": null,
   "outputs": [],
   "source": [
    "from __init__ import *\n",
    "from src.common.db.mariadb import *\n",
    "import pandas as pd"
   ],
   "metadata": {
    "collapsed": false
   }
  },
  {
   "cell_type": "code",
   "execution_count": 4,
   "outputs": [
    {
     "data": {
      "text/plain": "                   Tables_in_acq\n0  ACQ_MARIA_INSTANCE_PROPERTIES\n1        ACQ_MARIA_SITE_INSTANCE\n2                        SERVICE\n3                    SERVICE_SUB",
      "text/html": "<div>\n<style scoped>\n    .dataframe tbody tr th:only-of-type {\n        vertical-align: middle;\n    }\n\n    .dataframe tbody tr th {\n        vertical-align: top;\n    }\n\n    .dataframe thead th {\n        text-align: right;\n    }\n</style>\n<table border=\"1\" class=\"dataframe\">\n  <thead>\n    <tr style=\"text-align: right;\">\n      <th></th>\n      <th>Tables_in_acq</th>\n    </tr>\n  </thead>\n  <tbody>\n    <tr>\n      <th>0</th>\n      <td>ACQ_MARIA_INSTANCE_PROPERTIES</td>\n    </tr>\n    <tr>\n      <th>1</th>\n      <td>ACQ_MARIA_SITE_INSTANCE</td>\n    </tr>\n    <tr>\n      <th>2</th>\n      <td>SERVICE</td>\n    </tr>\n    <tr>\n      <th>3</th>\n      <td>SERVICE_SUB</td>\n    </tr>\n  </tbody>\n</table>\n</div>"
     },
     "execution_count": 4,
     "metadata": {},
     "output_type": "execute_result"
    }
   ],
   "source": [
    "e = acq_engine()\n",
    "pd.read_sql('show tables', e)"
   ],
   "metadata": {
    "collapsed": false
   }
  },
  {
   "cell_type": "code",
   "execution_count": 5,
   "outputs": [],
   "source": [
    "acq_service = pd.read_sql('select * from SERVICE', e)"
   ],
   "metadata": {
    "collapsed": false
   }
  },
  {
   "cell_type": "code",
   "execution_count": 8,
   "outputs": [
    {
     "data": {
      "text/plain": "      ID SUB_SITE            COLLECT_SITE TURN TYPE\n0      1  default          chicor.ssg.com    2    M\n1      2  default          chicor.ssg.com    3    A\n66    93  default  department.lotteon.com    2    M\n115  142  default  department.lotteon.com    2    M\n117  144  default  department.lotteon.com   24    T\n..   ...      ...                     ...  ...  ...\n42    69  default     top.wemakeprice.com    2    G\n43    70  default     top.wemakeprice.com    2    H\n44    71  default     top.wemakeprice.com    2    Q\n39    66  default     top.wemakeprice.com   24    T\n41    68  default     top.wemakeprice.com    9    D\n\n[120 rows x 5 columns]",
      "text/html": "<div>\n<style scoped>\n    .dataframe tbody tr th:only-of-type {\n        vertical-align: middle;\n    }\n\n    .dataframe tbody tr th {\n        vertical-align: top;\n    }\n\n    .dataframe thead th {\n        text-align: right;\n    }\n</style>\n<table border=\"1\" class=\"dataframe\">\n  <thead>\n    <tr style=\"text-align: right;\">\n      <th></th>\n      <th>ID</th>\n      <th>SUB_SITE</th>\n      <th>COLLECT_SITE</th>\n      <th>TURN</th>\n      <th>TYPE</th>\n    </tr>\n  </thead>\n  <tbody>\n    <tr>\n      <th>0</th>\n      <td>1</td>\n      <td>default</td>\n      <td>chicor.ssg.com</td>\n      <td>2</td>\n      <td>M</td>\n    </tr>\n    <tr>\n      <th>1</th>\n      <td>2</td>\n      <td>default</td>\n      <td>chicor.ssg.com</td>\n      <td>3</td>\n      <td>A</td>\n    </tr>\n    <tr>\n      <th>66</th>\n      <td>93</td>\n      <td>default</td>\n      <td>department.lotteon.com</td>\n      <td>2</td>\n      <td>M</td>\n    </tr>\n    <tr>\n      <th>115</th>\n      <td>142</td>\n      <td>default</td>\n      <td>department.lotteon.com</td>\n      <td>2</td>\n      <td>M</td>\n    </tr>\n    <tr>\n      <th>117</th>\n      <td>144</td>\n      <td>default</td>\n      <td>department.lotteon.com</td>\n      <td>24</td>\n      <td>T</td>\n    </tr>\n    <tr>\n      <th>...</th>\n      <td>...</td>\n      <td>...</td>\n      <td>...</td>\n      <td>...</td>\n      <td>...</td>\n    </tr>\n    <tr>\n      <th>42</th>\n      <td>69</td>\n      <td>default</td>\n      <td>top.wemakeprice.com</td>\n      <td>2</td>\n      <td>G</td>\n    </tr>\n    <tr>\n      <th>43</th>\n      <td>70</td>\n      <td>default</td>\n      <td>top.wemakeprice.com</td>\n      <td>2</td>\n      <td>H</td>\n    </tr>\n    <tr>\n      <th>44</th>\n      <td>71</td>\n      <td>default</td>\n      <td>top.wemakeprice.com</td>\n      <td>2</td>\n      <td>Q</td>\n    </tr>\n    <tr>\n      <th>39</th>\n      <td>66</td>\n      <td>default</td>\n      <td>top.wemakeprice.com</td>\n      <td>24</td>\n      <td>T</td>\n    </tr>\n    <tr>\n      <th>41</th>\n      <td>68</td>\n      <td>default</td>\n      <td>top.wemakeprice.com</td>\n      <td>9</td>\n      <td>D</td>\n    </tr>\n  </tbody>\n</table>\n<p>120 rows × 5 columns</p>\n</div>"
     },
     "execution_count": 8,
     "metadata": {},
     "output_type": "execute_result"
    }
   ],
   "source": [
    "acq_service.sort_values(['COLLECT_SITE', 'TURN'])"
   ],
   "metadata": {
    "collapsed": false
   }
  },
  {
   "cell_type": "code",
   "execution_count": null,
   "outputs": [],
   "source": [],
   "metadata": {
    "collapsed": false
   }
  }
 ],
 "metadata": {
  "kernelspec": {
   "display_name": "Python 3",
   "language": "python",
   "name": "python3"
  },
  "language_info": {
   "codemirror_mode": {
    "name": "ipython",
    "version": 2
   },
   "file_extension": ".py",
   "mimetype": "text/x-python",
   "name": "python",
   "nbconvert_exporter": "python",
   "pygments_lexer": "ipython2",
   "version": "2.7.6"
  }
 },
 "nbformat": 4,
 "nbformat_minor": 0
}
