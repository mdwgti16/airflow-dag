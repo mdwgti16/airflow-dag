{
 "cells": [
  {
   "cell_type": "code",
   "execution_count": null,
   "outputs": [],
   "source": [
    "from __init__ import *\n",
    "from src.common.db.mariadb import *\n",
    "import pandas as pd"
   ],
   "metadata": {
    "collapsed": false
   }
  },
  {
   "cell_type": "code",
   "execution_count": 4,
   "outputs": [
    {
     "data": {
      "text/plain": "                   Tables_in_acq\n0  ACQ_MARIA_INSTANCE_PROPERTIES\n1        ACQ_MARIA_SITE_INSTANCE\n2                        SERVICE\n3                    SERVICE_SUB",
      "text/html": "<div>\n<style scoped>\n    .dataframe tbody tr th:only-of-type {\n        vertical-align: middle;\n    }\n\n    .dataframe tbody tr th {\n        vertical-align: top;\n    }\n\n    .dataframe thead th {\n        text-align: right;\n    }\n</style>\n<table border=\"1\" class=\"dataframe\">\n  <thead>\n    <tr style=\"text-align: right;\">\n      <th></th>\n      <th>Tables_in_acq</th>\n    </tr>\n  </thead>\n  <tbody>\n    <tr>\n      <th>0</th>\n      <td>ACQ_MARIA_INSTANCE_PROPERTIES</td>\n    </tr>\n    <tr>\n      <th>1</th>\n      <td>ACQ_MARIA_SITE_INSTANCE</td>\n    </tr>\n    <tr>\n      <th>2</th>\n      <td>SERVICE</td>\n    </tr>\n    <tr>\n      <th>3</th>\n      <td>SERVICE_SUB</td>\n    </tr>\n  </tbody>\n</table>\n</div>"
     },
     "execution_count": 4,
     "metadata": {},
     "output_type": "execute_result"
    }
   ],
   "source": [
    "e = acq_engine()\n",
    "pd.read_sql('show tables', e)"
   ],
   "metadata": {
    "collapsed": false
   }
  },
  {
   "cell_type": "code",
   "execution_count": 31,
   "outputs": [],
   "source": [
    "acq_service = pd.read_sql('select * from SERVICE', e)"
   ],
   "metadata": {
    "collapsed": false
   }
  },
  {
   "cell_type": "code",
   "execution_count": 34,
   "outputs": [],
   "source": [
    "acq_service['TURN'] = acq_service['TURN'].astype('int')\n",
    "acq_service = acq_service.sort_values(['TURN', 'COLLECT_SITE'], ascending=True)\n",
    "acq_service = acq_service.drop_duplicates(['COLLECT_SITE', 'SUB_SITE', 'TYPE'])\n",
    "turns = acq_service['TURN'].unique()\n",
    "\n",
    "for turn in turns:\n",
    "    turn_site = acq_service[acq_service['TURN'] == turn].groupby(['COLLECT_SITE', 'SUB_SITE']).agg({\n",
    "        'COLLECT_SITE': min,\n",
    "        'TURN': min,\n",
    "        'TYPE': ','.join\n",
    "    })\n",
    "\n",
    "\n",
    "    break\n"
   ],
   "metadata": {
    "collapsed": false
   }
  },
  {
   "cell_type": "code",
   "execution_count": 35,
   "outputs": [
    {
     "data": {
      "text/plain": "                                           COLLECT_SITE  TURN           TYPE\nCOLLECT_SITE           SUB_SITE                                             \nchicor.ssg.com         default           chicor.ssg.com     2              M\ndepartment.lotteon.com default   department.lotteon.com     2              M\ndepartment.ssg.com     default       department.ssg.com     2              M\nlg.datart.cz           default             lg.datart.cz     2              M\ntop.11st.co.kr         default           top.11st.co.kr     2  M,S,C,H,D,E,G\ntop.auction.co.kr      default        top.auction.co.kr     2            M,S\ntop.cjmall.com         default           top.cjmall.com     2            M,S\ntop.gmarket.co.kr      default        top.gmarket.co.kr     2          M,S,E\ntop.hyundaihmall.com   default     top.hyundaihmall.com     2            M,U\ntop.interpark.com      default        top.interpark.com     2              M\ntop.lotteimall.com     default       top.lotteimall.com     2              U\ntop.naverstore.com     default       top.naverstore.com     2              M\ntop.new.lotteon.com    default      top.new.lotteon.com     2      M,S,B,C,E\ntop.nsmall.com         default           top.nsmall.com     2              G\ntop.ssg.com            default              top.ssg.com     2          M,S,F\ntop.tmon.co.kr         default           top.tmon.co.kr     2    S,B,M,G,F,E\ntop.wemakeprice.com    default      top.wemakeprice.com     2    M,S,A,G,H,Q",
      "text/html": "<div>\n<style scoped>\n    .dataframe tbody tr th:only-of-type {\n        vertical-align: middle;\n    }\n\n    .dataframe tbody tr th {\n        vertical-align: top;\n    }\n\n    .dataframe thead th {\n        text-align: right;\n    }\n</style>\n<table border=\"1\" class=\"dataframe\">\n  <thead>\n    <tr style=\"text-align: right;\">\n      <th></th>\n      <th></th>\n      <th>COLLECT_SITE</th>\n      <th>TURN</th>\n      <th>TYPE</th>\n    </tr>\n    <tr>\n      <th>COLLECT_SITE</th>\n      <th>SUB_SITE</th>\n      <th></th>\n      <th></th>\n      <th></th>\n    </tr>\n  </thead>\n  <tbody>\n    <tr>\n      <th>chicor.ssg.com</th>\n      <th>default</th>\n      <td>chicor.ssg.com</td>\n      <td>2</td>\n      <td>M</td>\n    </tr>\n    <tr>\n      <th>department.lotteon.com</th>\n      <th>default</th>\n      <td>department.lotteon.com</td>\n      <td>2</td>\n      <td>M</td>\n    </tr>\n    <tr>\n      <th>department.ssg.com</th>\n      <th>default</th>\n      <td>department.ssg.com</td>\n      <td>2</td>\n      <td>M</td>\n    </tr>\n    <tr>\n      <th>lg.datart.cz</th>\n      <th>default</th>\n      <td>lg.datart.cz</td>\n      <td>2</td>\n      <td>M</td>\n    </tr>\n    <tr>\n      <th>top.11st.co.kr</th>\n      <th>default</th>\n      <td>top.11st.co.kr</td>\n      <td>2</td>\n      <td>M,S,C,H,D,E,G</td>\n    </tr>\n    <tr>\n      <th>top.auction.co.kr</th>\n      <th>default</th>\n      <td>top.auction.co.kr</td>\n      <td>2</td>\n      <td>M,S</td>\n    </tr>\n    <tr>\n      <th>top.cjmall.com</th>\n      <th>default</th>\n      <td>top.cjmall.com</td>\n      <td>2</td>\n      <td>M,S</td>\n    </tr>\n    <tr>\n      <th>top.gmarket.co.kr</th>\n      <th>default</th>\n      <td>top.gmarket.co.kr</td>\n      <td>2</td>\n      <td>M,S,E</td>\n    </tr>\n    <tr>\n      <th>top.hyundaihmall.com</th>\n      <th>default</th>\n      <td>top.hyundaihmall.com</td>\n      <td>2</td>\n      <td>M,U</td>\n    </tr>\n    <tr>\n      <th>top.interpark.com</th>\n      <th>default</th>\n      <td>top.interpark.com</td>\n      <td>2</td>\n      <td>M</td>\n    </tr>\n    <tr>\n      <th>top.lotteimall.com</th>\n      <th>default</th>\n      <td>top.lotteimall.com</td>\n      <td>2</td>\n      <td>U</td>\n    </tr>\n    <tr>\n      <th>top.naverstore.com</th>\n      <th>default</th>\n      <td>top.naverstore.com</td>\n      <td>2</td>\n      <td>M</td>\n    </tr>\n    <tr>\n      <th>top.new.lotteon.com</th>\n      <th>default</th>\n      <td>top.new.lotteon.com</td>\n      <td>2</td>\n      <td>M,S,B,C,E</td>\n    </tr>\n    <tr>\n      <th>top.nsmall.com</th>\n      <th>default</th>\n      <td>top.nsmall.com</td>\n      <td>2</td>\n      <td>G</td>\n    </tr>\n    <tr>\n      <th>top.ssg.com</th>\n      <th>default</th>\n      <td>top.ssg.com</td>\n      <td>2</td>\n      <td>M,S,F</td>\n    </tr>\n    <tr>\n      <th>top.tmon.co.kr</th>\n      <th>default</th>\n      <td>top.tmon.co.kr</td>\n      <td>2</td>\n      <td>S,B,M,G,F,E</td>\n    </tr>\n    <tr>\n      <th>top.wemakeprice.com</th>\n      <th>default</th>\n      <td>top.wemakeprice.com</td>\n      <td>2</td>\n      <td>M,S,A,G,H,Q</td>\n    </tr>\n  </tbody>\n</table>\n</div>"
     },
     "execution_count": 35,
     "metadata": {},
     "output_type": "execute_result"
    }
   ],
   "source": [
    "turn_site"
   ],
   "metadata": {
    "collapsed": false
   }
  },
  {
   "cell_type": "code",
   "execution_count": 19,
   "outputs": [
    {
     "data": {
      "text/plain": "      ID SUB_SITE            COLLECT_SITE  TURN TYPE\n0      1  default          chicor.ssg.com     2    M\n66    93  default  department.lotteon.com     2    M\n115  142  default  department.lotteon.com     2    M\n2      3  default      department.ssg.com     2    M\n119  146  default            lg.datart.cz     2    M\n..   ...      ...                     ...   ...  ...\n89   116  default          top.11st.co.kr   144    L\n99   126  default       top.auction.co.kr   144    P\n109  136  default       top.gmarket.co.kr   144    C\n26    29  default           top.kurly.com   144    T\n114  141  default      top.lotteimall.com   144    P\n\n[120 rows x 5 columns]",
      "text/html": "<div>\n<style scoped>\n    .dataframe tbody tr th:only-of-type {\n        vertical-align: middle;\n    }\n\n    .dataframe tbody tr th {\n        vertical-align: top;\n    }\n\n    .dataframe thead th {\n        text-align: right;\n    }\n</style>\n<table border=\"1\" class=\"dataframe\">\n  <thead>\n    <tr style=\"text-align: right;\">\n      <th></th>\n      <th>ID</th>\n      <th>SUB_SITE</th>\n      <th>COLLECT_SITE</th>\n      <th>TURN</th>\n      <th>TYPE</th>\n    </tr>\n  </thead>\n  <tbody>\n    <tr>\n      <th>0</th>\n      <td>1</td>\n      <td>default</td>\n      <td>chicor.ssg.com</td>\n      <td>2</td>\n      <td>M</td>\n    </tr>\n    <tr>\n      <th>66</th>\n      <td>93</td>\n      <td>default</td>\n      <td>department.lotteon.com</td>\n      <td>2</td>\n      <td>M</td>\n    </tr>\n    <tr>\n      <th>115</th>\n      <td>142</td>\n      <td>default</td>\n      <td>department.lotteon.com</td>\n      <td>2</td>\n      <td>M</td>\n    </tr>\n    <tr>\n      <th>2</th>\n      <td>3</td>\n      <td>default</td>\n      <td>department.ssg.com</td>\n      <td>2</td>\n      <td>M</td>\n    </tr>\n    <tr>\n      <th>119</th>\n      <td>146</td>\n      <td>default</td>\n      <td>lg.datart.cz</td>\n      <td>2</td>\n      <td>M</td>\n    </tr>\n    <tr>\n      <th>...</th>\n      <td>...</td>\n      <td>...</td>\n      <td>...</td>\n      <td>...</td>\n      <td>...</td>\n    </tr>\n    <tr>\n      <th>89</th>\n      <td>116</td>\n      <td>default</td>\n      <td>top.11st.co.kr</td>\n      <td>144</td>\n      <td>L</td>\n    </tr>\n    <tr>\n      <th>99</th>\n      <td>126</td>\n      <td>default</td>\n      <td>top.auction.co.kr</td>\n      <td>144</td>\n      <td>P</td>\n    </tr>\n    <tr>\n      <th>109</th>\n      <td>136</td>\n      <td>default</td>\n      <td>top.gmarket.co.kr</td>\n      <td>144</td>\n      <td>C</td>\n    </tr>\n    <tr>\n      <th>26</th>\n      <td>29</td>\n      <td>default</td>\n      <td>top.kurly.com</td>\n      <td>144</td>\n      <td>T</td>\n    </tr>\n    <tr>\n      <th>114</th>\n      <td>141</td>\n      <td>default</td>\n      <td>top.lotteimall.com</td>\n      <td>144</td>\n      <td>P</td>\n    </tr>\n  </tbody>\n</table>\n<p>120 rows × 5 columns</p>\n</div>"
     },
     "execution_count": 19,
     "metadata": {},
     "output_type": "execute_result"
    }
   ],
   "source": [
    "acq_service"
   ],
   "metadata": {
    "collapsed": false
   }
  }
 ],
 "metadata": {
  "kernelspec": {
   "display_name": "Python 3",
   "language": "python",
   "name": "python3"
  },
  "language_info": {
   "codemirror_mode": {
    "name": "ipython",
    "version": 2
   },
   "file_extension": ".py",
   "mimetype": "text/x-python",
   "name": "python",
   "nbconvert_exporter": "python",
   "pygments_lexer": "ipython2",
   "version": "2.7.6"
  }
 },
 "nbformat": 4,
 "nbformat_minor": 0
}
